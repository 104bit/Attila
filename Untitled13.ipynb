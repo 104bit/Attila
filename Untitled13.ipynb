{
 "cells": [
  {
   "cell_type": "code",
   "execution_count": null,
   "id": "eb0f7e3a",
   "metadata": {},
   "outputs": [
    {
     "name": "stderr",
     "output_type": "stream",
     "text": [
      "[2024-09-08 19:55:23] [WARNING ] discord.ext.commands.bot: Privileged message content intent is missing, commands may not work as expected.\n",
      "[2024-09-08 19:55:23] [INFO    ] discord.client: logging in using static token\n",
      "[2024-09-08 19:55:24] [INFO    ] discord.gateway: Shard ID None has connected to Gateway (Session ID: 502cf8584af7f6a7e0f3984e262e1b7d).\n"
     ]
    },
    {
     "name": "stdout",
     "output_type": "stream",
     "text": [
      "Bot Attila olarak giriş yaptı!\n"
     ]
    },
    {
     "name": "stderr",
     "output_type": "stream",
     "text": [
      "[2024-09-08 19:57:11] [ERROR   ] discord.client: Ignoring exception in on_voice_state_update\n",
      "Traceback (most recent call last):\n",
      "  File \"C:\\Users\\ahmet\\anaconda3\\Lib\\site-packages\\discord\\client.py\", line 449, in _run_event\n",
      "    await coro(*args, **kwargs)\n",
      "  File \"C:\\Users\\ahmet\\AppData\\Local\\Temp\\ipykernel_25516\\1919229190.py\", line 27, in on_voice_state_update\n",
      "    await member.move_to(None)  # Kullanıcıyı ses kanalından çıkar\n",
      "    ^^^^^^^^^^^^^^^^^^^^^^^^^^\n",
      "  File \"C:\\Users\\ahmet\\anaconda3\\Lib\\site-packages\\discord\\member.py\", line 1005, in move_to\n",
      "    await self.edit(voice_channel=channel, reason=reason)\n",
      "  File \"C:\\Users\\ahmet\\anaconda3\\Lib\\site-packages\\discord\\member.py\", line 945, in edit\n",
      "    data = await http.edit_member(guild_id, self.id, reason=reason, **payload)\n",
      "           ^^^^^^^^^^^^^^^^^^^^^^^^^^^^^^^^^^^^^^^^^^^^^^^^^^^^^^^^^^^^^^^^^^^\n",
      "  File \"C:\\Users\\ahmet\\anaconda3\\Lib\\site-packages\\discord\\http.py\", line 752, in request\n",
      "    raise Forbidden(response, data)\n",
      "discord.errors.Forbidden: 403 Forbidden (error code: 50013): Missing Permissions\n",
      "[2024-09-08 20:04:07] [ERROR   ] discord.client: Ignoring exception in on_voice_state_update\n",
      "Traceback (most recent call last):\n",
      "  File \"C:\\Users\\ahmet\\anaconda3\\Lib\\site-packages\\discord\\client.py\", line 449, in _run_event\n",
      "    await coro(*args, **kwargs)\n",
      "  File \"C:\\Users\\ahmet\\AppData\\Local\\Temp\\ipykernel_25516\\1919229190.py\", line 28, in on_voice_state_update\n",
      "    await member.send(f\"{after.channel.name} ses kanalında yalnız olduğun için kanaldan çıkarıldın.\")\n",
      "                         ^^^^^^^^^^^^^^^^^^\n",
      "AttributeError: 'NoneType' object has no attribute 'name'\n",
      "[2024-09-08 20:04:10] [ERROR   ] discord.client: Ignoring exception in on_voice_state_update\n",
      "Traceback (most recent call last):\n",
      "  File \"C:\\Users\\ahmet\\anaconda3\\Lib\\site-packages\\discord\\client.py\", line 449, in _run_event\n",
      "    await coro(*args, **kwargs)\n",
      "  File \"C:\\Users\\ahmet\\AppData\\Local\\Temp\\ipykernel_25516\\1919229190.py\", line 28, in on_voice_state_update\n",
      "    await member.send(f\"{after.channel.name} ses kanalında yalnız olduğun için kanaldan çıkarıldın.\")\n",
      "                         ^^^^^^^^^^^^^^^^^^\n",
      "AttributeError: 'NoneType' object has no attribute 'name'\n",
      "[2024-09-08 20:04:11] [ERROR   ] discord.client: Ignoring exception in on_voice_state_update\n",
      "Traceback (most recent call last):\n",
      "  File \"C:\\Users\\ahmet\\anaconda3\\Lib\\site-packages\\discord\\client.py\", line 449, in _run_event\n",
      "    await coro(*args, **kwargs)\n",
      "  File \"C:\\Users\\ahmet\\AppData\\Local\\Temp\\ipykernel_25516\\1919229190.py\", line 28, in on_voice_state_update\n",
      "    await member.send(f\"{after.channel.name} ses kanalında yalnız olduğun için kanaldan çıkarıldın.\")\n",
      "                         ^^^^^^^^^^^^^^^^^^\n",
      "AttributeError: 'NoneType' object has no attribute 'name'\n",
      "[2024-09-08 20:04:18] [ERROR   ] discord.client: Ignoring exception in on_voice_state_update\n",
      "Traceback (most recent call last):\n",
      "  File \"C:\\Users\\ahmet\\anaconda3\\Lib\\site-packages\\discord\\client.py\", line 449, in _run_event\n",
      "    await coro(*args, **kwargs)\n",
      "  File \"C:\\Users\\ahmet\\AppData\\Local\\Temp\\ipykernel_25516\\1919229190.py\", line 28, in on_voice_state_update\n",
      "    await member.send(f\"{after.channel.name} ses kanalında yalnız olduğun için kanaldan çıkarıldın.\")\n",
      "                         ^^^^^^^^^^^^^^^^^^\n",
      "AttributeError: 'NoneType' object has no attribute 'name'\n",
      "[2024-09-08 20:04:34] [ERROR   ] discord.client: Ignoring exception in on_voice_state_update\n",
      "Traceback (most recent call last):\n",
      "  File \"C:\\Users\\ahmet\\anaconda3\\Lib\\site-packages\\discord\\client.py\", line 449, in _run_event\n",
      "    await coro(*args, **kwargs)\n",
      "  File \"C:\\Users\\ahmet\\AppData\\Local\\Temp\\ipykernel_25516\\1919229190.py\", line 28, in on_voice_state_update\n",
      "    await member.send(f\"{after.channel.name} ses kanalında yalnız olduğun için kanaldan çıkarıldın.\")\n",
      "                         ^^^^^^^^^^^^^^^^^^\n",
      "AttributeError: 'NoneType' object has no attribute 'name'\n"
     ]
    }
   ],
   "source": [
    "import nest_asyncio\n",
    "nest_asyncio.apply()\n",
    "\n",
    "import discord\n",
    "from discord.ext import commands\n",
    "\n",
    "# Botun komut prefixi ve izinler\n",
    "intents = discord.Intents.default()\n",
    "intents.members = True\n",
    "intents.voice_states = True\n",
    "bot = commands.Bot(command_prefix='!', intents=intents)\n",
    "\n",
    "# Ahmet'in kullanıcı adını buraya ekle\n",
    "AHMET_USER_ID = 434728214707961856  # Ahmet'in Discord kullanıcı ID'sini buraya ekle\n",
    "\n",
    "@bot.event\n",
    "async def on_ready():\n",
    "    print(f'Bot {bot.user.name} olarak giriş yaptı!')\n",
    "\n",
    "@bot.event\n",
    "async def on_voice_state_update(member, before, after):\n",
    "    # Eğer Ahmet ses kanalına girerse\n",
    "    if member.id == 434728214707961856 and after.channel is not None:\n",
    "        # Kanaldaki kullanıcı sayısını kontrol et\n",
    "        if len(after.channel.members) == 1:\n",
    "            # Eğer sadece Ahmet varsa, onu kanaldan çıkar\n",
    "            await member.move_to(None)  # Kullanıcıyı ses kanalından çıkar\n",
    "            await member.send(f\"{after.channel.name} ses kanalında yalnız olduğun için kanaldan çıkarıldın.\")\n",
    "        else:\n",
    "            # Eğer başka kullanıcılar varsa, hiçbir şey yapma\n",
    "            pass\n",
    "\n",
    "# Botun tokenını buraya ekle\n",
    "bot.run('MTI4MjM2MDM5MTQxNDA1OTA3MA.GnO1hr.9hkPG_661sfJn2swN9FhQGDFhUA58m5IjUdnwo')"
   ]
  },
  {
   "cell_type": "code",
   "execution_count": null,
   "id": "65571856",
   "metadata": {},
   "outputs": [],
   "source": []
  }
 ],
 "metadata": {
  "kernelspec": {
   "display_name": "Python 3 (ipykernel)",
   "language": "python",
   "name": "python3"
  },
  "language_info": {
   "codemirror_mode": {
    "name": "ipython",
    "version": 3
   },
   "file_extension": ".py",
   "mimetype": "text/x-python",
   "name": "python",
   "nbconvert_exporter": "python",
   "pygments_lexer": "ipython3",
   "version": "3.11.7"
  }
 },
 "nbformat": 4,
 "nbformat_minor": 5
}
